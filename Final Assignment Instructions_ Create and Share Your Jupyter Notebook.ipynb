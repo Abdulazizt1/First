{
 "cells": [
  {
   "cell_type": "markdown",
   "id": "eda5d355",
   "metadata": {},
   "source": [
    "# Data Science Tools and Ecosystem"
   ]
  },
  {
   "cell_type": "markdown",
   "id": "59d6894b",
   "metadata": {},
   "source": [
    "In this notebook, Data Science Tools and Ecosystem are summarized."
   ]
  },
  {
   "cell_type": "markdown",
   "id": "0a7d7d63",
   "metadata": {},
   "source": [
    "#### Objectives:\n",
    "<ul>\n",
    "        <li>Python</li>\n",
    "        <li>R</li>\n",
    "        <li>SQL</li>\n",
    "        <li>Scala</li>\n",
    "        <li>Java</li>\n",
    "</ul>"
   ]
  },
  {
   "cell_type": "markdown",
   "id": "0f19cd16",
   "metadata": {},
   "source": [
    "Some of the popular languages that Data Scientists use are:\n",
    "\n",
    "1. Python\n",
    "2. Julia\n",
    "3. R"
   ]
  },
  {
   "cell_type": "markdown",
   "id": "5cd0f56b",
   "metadata": {},
   "source": [
    "Some of the commonly used libraries used by Data Scientists include:\n",
    "1. PyTorch\n",
    "2. Keras\n",
    "3. TensorFlow"
   ]
  },
  {
   "cell_type": "markdown",
   "id": "01f3ff75",
   "metadata": {},
   "source": [
    "|Data Science Tools|\n",
    "|-|\n",
    "|Jupyter Notebook|\n",
    "|RStudio|\n",
    "|NumPy|"
   ]
  },
  {
   "cell_type": "markdown",
   "id": "fabf60c2",
   "metadata": {},
   "source": [
    "### Below are a few examples of evaluating arithmetic expressions in Python.\n",
    "\n",
    "Addition:\n",
    "\n",
    "x=1\n",
    "\n",
    "y=1\n",
    "\n",
    "z=x+y\n",
    "\n",
    "print(z)\n",
    "\n",
    "output = 2\n",
    "\n",
    "---\n",
    "\n",
    "Substraction:\n",
    "\n",
    "x=1\n",
    "\n",
    "y=1\n",
    "\n",
    "z=x-y\n",
    "\n",
    "print(z)\n",
    "\n",
    "output = 0\n",
    "\n",
    "---\n",
    "\n",
    "Multiplication:\n",
    "\n",
    "x=1\n",
    "\n",
    "y=1\n",
    "\n",
    "z=x*y\n",
    "\n",
    "print(z)\n",
    "\n",
    "output = 1\n",
    "\n",
    "---\n",
    "\n",
    "Division:\n",
    "\n",
    "x=1\n",
    "\n",
    "y=1\n",
    "\n",
    "z=x/y\n",
    "\n",
    "print(z)\n",
    "\n",
    "output = 1"
   ]
  },
  {
   "cell_type": "code",
   "execution_count": 5,
   "id": "3c3f1261",
   "metadata": {},
   "outputs": [
    {
     "data": {
      "text/plain": [
       "17"
      ]
     },
     "execution_count": 5,
     "metadata": {},
     "output_type": "execute_result"
    }
   ],
   "source": [
    "# This a simple arithmetic expression to mutiply then add integers\n",
    "\n",
    "(3*4)+5"
   ]
  },
  {
   "cell_type": "code",
   "execution_count": 9,
   "id": "331e81f0",
   "metadata": {},
   "outputs": [
    {
     "data": {
      "text/plain": [
       "3.3333333333333335"
      ]
     },
     "execution_count": 9,
     "metadata": {},
     "output_type": "execute_result"
    }
   ],
   "source": [
    "# This will convert 200 minutes to hours by diving by 60\n",
    "\n",
    "200/60"
   ]
  },
  {
   "cell_type": "markdown",
   "id": "27c581ba",
   "metadata": {},
   "source": []
  },
  {
   "cell_type": "markdown",
   "id": "51d9dd0b",
   "metadata": {},
   "source": [
    "## Author\n",
    "\n",
    "Abdulaziz"
   ]
  }
 ],
 "metadata": {
  "kernelspec": {
   "display_name": "Python 3 (ipykernel)",
   "language": "python",
   "name": "python3"
  },
  "language_info": {
   "codemirror_mode": {
    "name": "ipython",
    "version": 3
   },
   "file_extension": ".py",
   "mimetype": "text/x-python",
   "name": "python",
   "nbconvert_exporter": "python",
   "pygments_lexer": "ipython3",
   "version": "3.11.5"
  }
 },
 "nbformat": 4,
 "nbformat_minor": 5
}
